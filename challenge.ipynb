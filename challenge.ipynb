{
 "cells": [
  {
   "cell_type": "markdown",
   "metadata": {},
   "source": [
    "Parse input"
   ]
  },
  {
   "cell_type": "code",
   "execution_count": null,
   "metadata": {},
   "outputs": [],
   "source": [
    "import pandas as pd\n",
    "\n",
    "# Pentru eroarea cu tensorflow\n",
    "import os\n",
    "os.environ[\"USE_TF\"] = \"0\"\n",
    "\n",
    "from sentence_transformers import SentenceTransformer, util\n",
    "\n",
    "companies = pd.read_csv('ml_insurance_challenge.csv')\n",
    "description = companies['description'].tolist()\n",
    "business_tags = companies['business_tags'].tolist()\n",
    "sector = companies['sector'].tolist()\n",
    "category = companies['category'].tolist()\n",
    "niche = companies['niche'].tolist()\n",
    "\n",
    "insurance_taxonomy = pd.read_csv('insurance_taxonomy.csv')\n",
    "labels = insurance_taxonomy['label'].tolist()\n"
   ]
  },
  {
   "cell_type": "markdown",
   "metadata": {},
   "source": [
    "Elimina randurile cu valori Nan in orice coloana, deoarece cand incarcam sa creez embeddings aveam erori"
   ]
  },
  {
   "cell_type": "code",
   "execution_count": null,
   "metadata": {},
   "outputs": [],
   "source": [
    "companies = companies.dropna(subset=['description', 'business_tags', 'sector', 'category', 'niche'])"
   ]
  },
  {
   "cell_type": "markdown",
   "metadata": {},
   "source": [
    "Verific numarul valorilor Nan din fiecare coloana"
   ]
  },
  {
   "cell_type": "code",
   "execution_count": null,
   "metadata": {},
   "outputs": [],
   "source": [
    "print(companies.isna().sum())"
   ]
  },
  {
   "cell_type": "markdown",
   "metadata": {},
   "source": [
    "Creez modelul NLP"
   ]
  },
  {
   "cell_type": "code",
   "execution_count": null,
   "metadata": {},
   "outputs": [],
   "source": [
    "model = SentenceTransformer('all-MiniLM-L6-v2')"
   ]
  },
  {
   "cell_type": "markdown",
   "metadata": {},
   "source": [
    "Creez embeddings pentru textul din csv companii si csv taxonomy"
   ]
  },
  {
   "cell_type": "code",
   "execution_count": 11,
   "metadata": {},
   "outputs": [],
   "source": [
    "\n",
    "companies['text'] = companies['description'] + ' ' + companies['business_tags'] + ' ' + companies['sector'] + companies['category'] + companies['niche']\n",
    "company_embeddings = model.encode(companies['text'].tolist(), convert_to_tensor=True)\n",
    "taxonomy_embeddings = model.encode(labels, convert_to_tensor=True)"
   ]
  },
  {
   "cell_type": "markdown",
   "metadata": {},
   "source": [
    "Calculez similaritatea intre fiecare embedding al fiecarei companii cu taxonomy"
   ]
  },
  {
   "cell_type": "code",
   "execution_count": null,
   "metadata": {},
   "outputs": [],
   "source": [
    "\n",
    "results = []\n",
    "for emb in company_embeddings:\n",
    "    cosine_scores = util.cos_sim(emb, taxonomy_embeddings)\n",
    "    top_labels = [labels[i] for i in cosine_scores[0].topk(3).indices]  # top 3 labels\n",
    "    results.append(top_labels)"
   ]
  },
  {
   "cell_type": "markdown",
   "metadata": {},
   "source": [
    "Fac o noua coloana continand label urile si creez un nou csv din cel initial ar companiilor, cu aceasta coloana"
   ]
  },
  {
   "cell_type": "code",
   "execution_count": 13,
   "metadata": {},
   "outputs": [],
   "source": [
    "companies['insurance_label'] = results\n",
    "\n",
    "companies.to_csv('company_list_result.csv', index=False)"
   ]
  }
 ],
 "metadata": {
  "kernelspec": {
   "display_name": "Python 3",
   "language": "python",
   "name": "python3"
  },
  "language_info": {
   "codemirror_mode": {
    "name": "ipython",
    "version": 3
   },
   "file_extension": ".py",
   "mimetype": "text/x-python",
   "name": "python",
   "nbconvert_exporter": "python",
   "pygments_lexer": "ipython3",
   "version": "3.12.0"
  }
 },
 "nbformat": 4,
 "nbformat_minor": 2
}
